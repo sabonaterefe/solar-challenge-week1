{
 "cells": [],
 "metadata": {
  "kernelspec": {
   "display_name": "solar-env",
   "language": "python",
   "name": "solar-env"
  },
  "language_info": {
   "name": "python",
   "version": "3.11.0"
  }
 },
 "nbformat": 4,
 "nbformat_minor": 5
}
